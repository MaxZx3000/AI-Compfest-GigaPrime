{
  "nbformat": 4,
  "nbformat_minor": 0,
  "metadata": {
    "colab": {
      "provenance": [],
      "authorship_tag": "ABX9TyPfB2+EETWpwcvHTQMF+AMR"
    },
    "kernelspec": {
      "name": "python3",
      "display_name": "Python 3"
    },
    "language_info": {
      "name": "python"
    }
  },
  "cells": [
    {
      "cell_type": "markdown",
      "source": [
        "# Time Series Jumlah Wisatawan Mancanegara\n",
        "\n",
        "Dibuat oleh: Anthony Kevin Oktavius"
      ],
      "metadata": {
        "id": "go6Xp5UoDC8h"
      }
    },
    {
      "cell_type": "code",
      "source": [
        "! pip install -U statsmodels"
      ],
      "metadata": {
        "id": "bF8MnmjFLdlx"
      },
      "execution_count": null,
      "outputs": []
    },
    {
      "cell_type": "markdown",
      "source": [
        "Library Import"
      ],
      "metadata": {
        "id": "avYpFfQZDRd3"
      }
    },
    {
      "cell_type": "code",
      "execution_count": 1,
      "metadata": {
        "id": "rEqO6wpFzoml"
      },
      "outputs": [],
      "source": [
        "import numpy as np\n",
        "import pandas as pd\n",
        "import os\n",
        "import seaborn as sns\n",
        "import matplotlib.pyplot as plt\n",
        "import statsmodels.api as sm\n",
        "from statsmodels.tsa.arima.model import ARIMA\n",
        "from sklearn.model_selection import train_test_split\n",
        "from datetime import date"
      ]
    },
    {
      "cell_type": "markdown",
      "source": [
        "## Data Loading"
      ],
      "metadata": {
        "id": "iCZ8IVeoEgnO"
      }
    },
    {
      "cell_type": "code",
      "source": [
        "base_dir = \"Jawa Barat/\""
      ],
      "metadata": {
        "id": "cE8wGcLxMzMj"
      },
      "execution_count": 9,
      "outputs": []
    },
    {
      "cell_type": "code",
      "source": [
        "list_of_jawa_barat_time_series_files = os.listdir(base_dir)\n",
        "list_of_jawa_barat_time_series_files = [f\"{base_dir}{file_name}\" for file_name in list_of_jawa_barat_time_series_files]\n",
        "print(list_of_jawa_barat_time_series_files)"
      ],
      "metadata": {
        "colab": {
          "base_uri": "https://localhost:8080/"
        },
        "id": "YzU8XW7-DTT_",
        "outputId": "ca853db8-95e9-41da-8c28-6e77aa1e5e56"
      },
      "execution_count": 8,
      "outputs": [
        {
          "output_type": "stream",
          "name": "stdout",
          "text": [
            "['Jawa Barat/disparbud-od_15422_jumlah_wisatawan_berdasarkan_kategori_data.csv']\n"
          ]
        }
      ]
    },
    {
      "cell_type": "markdown",
      "source": [
        "## Data Preprocessing"
      ],
      "metadata": {
        "id": "EsjcjsvPTkFA"
      }
    },
    {
      "cell_type": "code",
      "source": [
        "nama_provinsi_field = \"nama_provinsi\"\n",
        "kategori_wisatawan_field = \"kategori_wisatawan\"\n",
        "jumlah_wisatawan_field = \"jumlah_wisatawan\"\n",
        "tahun_field = \"tahun\""
      ],
      "metadata": {
        "id": "yBNJgT9LUBFc"
      },
      "execution_count": 13,
      "outputs": []
    },
    {
      "cell_type": "code",
      "source": [
        "jawa_barat_time_series_columns = [\n",
        "  nama_provinsi_field, \n",
        "  kategori_wisatawan_field, \n",
        "  jumlah_wisatawan_field,\n",
        "  tahun_field\n",
        "]\n",
        "\n",
        "jawa_barat_tourism_time_series_df = pd.read_csv(\n",
        "    list_of_jawa_barat_time_series_files[0],\n",
        "    usecols = jawa_barat_time_series_columns\n",
        ")\n",
        "jawa_barat_tourism_time_series_df"
      ],
      "metadata": {
        "colab": {
          "base_uri": "https://localhost:8080/",
          "height": 676
        },
        "id": "2tKcK-8MPphc",
        "outputId": "ba34c542-16ae-4b71-9df7-8e1e205dffd2"
      },
      "execution_count": 21,
      "outputs": [
        {
          "output_type": "execute_result",
          "data": {
            "text/plain": [
              "   nama_provinsi     kategori_wisatawan  jumlah_wisatawan  tahun\n",
              "0     JAWA BARAT     WISATAWAN DOMESTIK          42758063   2012\n",
              "1     JAWA BARAT  WISATAWAN MANCANEGARA           1905378   2012\n",
              "2     JAWA BARAT     WISATAWAN DOMESTIK          45536179   2013\n",
              "3     JAWA BARAT  WISATAWAN MANCANEGARA           1794401   2013\n",
              "4     JAWA BARAT     WISATAWAN DOMESTIK          47992088   2014\n",
              "5     JAWA BARAT  WISATAWAN MANCANEGARA           1962639   2014\n",
              "6     JAWA BARAT     WISATAWAN DOMESTIK          56334706   2015\n",
              "7     JAWA BARAT  WISATAWAN MANCANEGARA           2027629   2015\n",
              "8     JAWA BARAT     WISATAWAN DOMESTIK          58728666   2016\n",
              "9     JAWA BARAT  WISATAWAN MANCANEGARA           4428094   2016\n",
              "10    JAWA BARAT     WISATAWAN DOMESTIK          59644070   2017\n",
              "11    JAWA BARAT  WISATAWAN MANCANEGARA           4984035   2017\n",
              "12    JAWA BARAT     WISATAWAN DOMESTIK          63298608   2018\n",
              "13    JAWA BARAT  WISATAWAN MANCANEGARA           2597455   2018\n",
              "14    JAWA BARAT     WISATAWAN DOMESTIK          64610832   2019\n",
              "15    JAWA BARAT  WISATAWAN MANCANEGARA           3645433   2019\n",
              "16    JAWA BARAT     WISATAWAN DOMESTIK          36524515   2020\n",
              "17    JAWA BARAT  WISATAWAN MANCANEGARA           1905213   2020\n",
              "18    JAWA BARAT     WISATAWAN DOMESTIK          47132138   2021\n",
              "19    JAWA BARAT  WISATAWAN MANCANEGARA            220531   2021"
            ],
            "text/html": [
              "\n",
              "  <div id=\"df-5cc83605-8b0b-4c79-b86f-47894916203c\">\n",
              "    <div class=\"colab-df-container\">\n",
              "      <div>\n",
              "<style scoped>\n",
              "    .dataframe tbody tr th:only-of-type {\n",
              "        vertical-align: middle;\n",
              "    }\n",
              "\n",
              "    .dataframe tbody tr th {\n",
              "        vertical-align: top;\n",
              "    }\n",
              "\n",
              "    .dataframe thead th {\n",
              "        text-align: right;\n",
              "    }\n",
              "</style>\n",
              "<table border=\"1\" class=\"dataframe\">\n",
              "  <thead>\n",
              "    <tr style=\"text-align: right;\">\n",
              "      <th></th>\n",
              "      <th>nama_provinsi</th>\n",
              "      <th>kategori_wisatawan</th>\n",
              "      <th>jumlah_wisatawan</th>\n",
              "      <th>tahun</th>\n",
              "    </tr>\n",
              "  </thead>\n",
              "  <tbody>\n",
              "    <tr>\n",
              "      <th>0</th>\n",
              "      <td>JAWA BARAT</td>\n",
              "      <td>WISATAWAN DOMESTIK</td>\n",
              "      <td>42758063</td>\n",
              "      <td>2012</td>\n",
              "    </tr>\n",
              "    <tr>\n",
              "      <th>1</th>\n",
              "      <td>JAWA BARAT</td>\n",
              "      <td>WISATAWAN MANCANEGARA</td>\n",
              "      <td>1905378</td>\n",
              "      <td>2012</td>\n",
              "    </tr>\n",
              "    <tr>\n",
              "      <th>2</th>\n",
              "      <td>JAWA BARAT</td>\n",
              "      <td>WISATAWAN DOMESTIK</td>\n",
              "      <td>45536179</td>\n",
              "      <td>2013</td>\n",
              "    </tr>\n",
              "    <tr>\n",
              "      <th>3</th>\n",
              "      <td>JAWA BARAT</td>\n",
              "      <td>WISATAWAN MANCANEGARA</td>\n",
              "      <td>1794401</td>\n",
              "      <td>2013</td>\n",
              "    </tr>\n",
              "    <tr>\n",
              "      <th>4</th>\n",
              "      <td>JAWA BARAT</td>\n",
              "      <td>WISATAWAN DOMESTIK</td>\n",
              "      <td>47992088</td>\n",
              "      <td>2014</td>\n",
              "    </tr>\n",
              "    <tr>\n",
              "      <th>5</th>\n",
              "      <td>JAWA BARAT</td>\n",
              "      <td>WISATAWAN MANCANEGARA</td>\n",
              "      <td>1962639</td>\n",
              "      <td>2014</td>\n",
              "    </tr>\n",
              "    <tr>\n",
              "      <th>6</th>\n",
              "      <td>JAWA BARAT</td>\n",
              "      <td>WISATAWAN DOMESTIK</td>\n",
              "      <td>56334706</td>\n",
              "      <td>2015</td>\n",
              "    </tr>\n",
              "    <tr>\n",
              "      <th>7</th>\n",
              "      <td>JAWA BARAT</td>\n",
              "      <td>WISATAWAN MANCANEGARA</td>\n",
              "      <td>2027629</td>\n",
              "      <td>2015</td>\n",
              "    </tr>\n",
              "    <tr>\n",
              "      <th>8</th>\n",
              "      <td>JAWA BARAT</td>\n",
              "      <td>WISATAWAN DOMESTIK</td>\n",
              "      <td>58728666</td>\n",
              "      <td>2016</td>\n",
              "    </tr>\n",
              "    <tr>\n",
              "      <th>9</th>\n",
              "      <td>JAWA BARAT</td>\n",
              "      <td>WISATAWAN MANCANEGARA</td>\n",
              "      <td>4428094</td>\n",
              "      <td>2016</td>\n",
              "    </tr>\n",
              "    <tr>\n",
              "      <th>10</th>\n",
              "      <td>JAWA BARAT</td>\n",
              "      <td>WISATAWAN DOMESTIK</td>\n",
              "      <td>59644070</td>\n",
              "      <td>2017</td>\n",
              "    </tr>\n",
              "    <tr>\n",
              "      <th>11</th>\n",
              "      <td>JAWA BARAT</td>\n",
              "      <td>WISATAWAN MANCANEGARA</td>\n",
              "      <td>4984035</td>\n",
              "      <td>2017</td>\n",
              "    </tr>\n",
              "    <tr>\n",
              "      <th>12</th>\n",
              "      <td>JAWA BARAT</td>\n",
              "      <td>WISATAWAN DOMESTIK</td>\n",
              "      <td>63298608</td>\n",
              "      <td>2018</td>\n",
              "    </tr>\n",
              "    <tr>\n",
              "      <th>13</th>\n",
              "      <td>JAWA BARAT</td>\n",
              "      <td>WISATAWAN MANCANEGARA</td>\n",
              "      <td>2597455</td>\n",
              "      <td>2018</td>\n",
              "    </tr>\n",
              "    <tr>\n",
              "      <th>14</th>\n",
              "      <td>JAWA BARAT</td>\n",
              "      <td>WISATAWAN DOMESTIK</td>\n",
              "      <td>64610832</td>\n",
              "      <td>2019</td>\n",
              "    </tr>\n",
              "    <tr>\n",
              "      <th>15</th>\n",
              "      <td>JAWA BARAT</td>\n",
              "      <td>WISATAWAN MANCANEGARA</td>\n",
              "      <td>3645433</td>\n",
              "      <td>2019</td>\n",
              "    </tr>\n",
              "    <tr>\n",
              "      <th>16</th>\n",
              "      <td>JAWA BARAT</td>\n",
              "      <td>WISATAWAN DOMESTIK</td>\n",
              "      <td>36524515</td>\n",
              "      <td>2020</td>\n",
              "    </tr>\n",
              "    <tr>\n",
              "      <th>17</th>\n",
              "      <td>JAWA BARAT</td>\n",
              "      <td>WISATAWAN MANCANEGARA</td>\n",
              "      <td>1905213</td>\n",
              "      <td>2020</td>\n",
              "    </tr>\n",
              "    <tr>\n",
              "      <th>18</th>\n",
              "      <td>JAWA BARAT</td>\n",
              "      <td>WISATAWAN DOMESTIK</td>\n",
              "      <td>47132138</td>\n",
              "      <td>2021</td>\n",
              "    </tr>\n",
              "    <tr>\n",
              "      <th>19</th>\n",
              "      <td>JAWA BARAT</td>\n",
              "      <td>WISATAWAN MANCANEGARA</td>\n",
              "      <td>220531</td>\n",
              "      <td>2021</td>\n",
              "    </tr>\n",
              "  </tbody>\n",
              "</table>\n",
              "</div>\n",
              "      <button class=\"colab-df-convert\" onclick=\"convertToInteractive('df-5cc83605-8b0b-4c79-b86f-47894916203c')\"\n",
              "              title=\"Convert this dataframe to an interactive table.\"\n",
              "              style=\"display:none;\">\n",
              "        \n",
              "  <svg xmlns=\"http://www.w3.org/2000/svg\" height=\"24px\"viewBox=\"0 0 24 24\"\n",
              "       width=\"24px\">\n",
              "    <path d=\"M0 0h24v24H0V0z\" fill=\"none\"/>\n",
              "    <path d=\"M18.56 5.44l.94 2.06.94-2.06 2.06-.94-2.06-.94-.94-2.06-.94 2.06-2.06.94zm-11 1L8.5 8.5l.94-2.06 2.06-.94-2.06-.94L8.5 2.5l-.94 2.06-2.06.94zm10 10l.94 2.06.94-2.06 2.06-.94-2.06-.94-.94-2.06-.94 2.06-2.06.94z\"/><path d=\"M17.41 7.96l-1.37-1.37c-.4-.4-.92-.59-1.43-.59-.52 0-1.04.2-1.43.59L10.3 9.45l-7.72 7.72c-.78.78-.78 2.05 0 2.83L4 21.41c.39.39.9.59 1.41.59.51 0 1.02-.2 1.41-.59l7.78-7.78 2.81-2.81c.8-.78.8-2.07 0-2.86zM5.41 20L4 18.59l7.72-7.72 1.47 1.35L5.41 20z\"/>\n",
              "  </svg>\n",
              "      </button>\n",
              "      \n",
              "  <style>\n",
              "    .colab-df-container {\n",
              "      display:flex;\n",
              "      flex-wrap:wrap;\n",
              "      gap: 12px;\n",
              "    }\n",
              "\n",
              "    .colab-df-convert {\n",
              "      background-color: #E8F0FE;\n",
              "      border: none;\n",
              "      border-radius: 50%;\n",
              "      cursor: pointer;\n",
              "      display: none;\n",
              "      fill: #1967D2;\n",
              "      height: 32px;\n",
              "      padding: 0 0 0 0;\n",
              "      width: 32px;\n",
              "    }\n",
              "\n",
              "    .colab-df-convert:hover {\n",
              "      background-color: #E2EBFA;\n",
              "      box-shadow: 0px 1px 2px rgba(60, 64, 67, 0.3), 0px 1px 3px 1px rgba(60, 64, 67, 0.15);\n",
              "      fill: #174EA6;\n",
              "    }\n",
              "\n",
              "    [theme=dark] .colab-df-convert {\n",
              "      background-color: #3B4455;\n",
              "      fill: #D2E3FC;\n",
              "    }\n",
              "\n",
              "    [theme=dark] .colab-df-convert:hover {\n",
              "      background-color: #434B5C;\n",
              "      box-shadow: 0px 1px 3px 1px rgba(0, 0, 0, 0.15);\n",
              "      filter: drop-shadow(0px 1px 2px rgba(0, 0, 0, 0.3));\n",
              "      fill: #FFFFFF;\n",
              "    }\n",
              "  </style>\n",
              "\n",
              "      <script>\n",
              "        const buttonEl =\n",
              "          document.querySelector('#df-5cc83605-8b0b-4c79-b86f-47894916203c button.colab-df-convert');\n",
              "        buttonEl.style.display =\n",
              "          google.colab.kernel.accessAllowed ? 'block' : 'none';\n",
              "\n",
              "        async function convertToInteractive(key) {\n",
              "          const element = document.querySelector('#df-5cc83605-8b0b-4c79-b86f-47894916203c');\n",
              "          const dataTable =\n",
              "            await google.colab.kernel.invokeFunction('convertToInteractive',\n",
              "                                                     [key], {});\n",
              "          if (!dataTable) return;\n",
              "\n",
              "          const docLinkHtml = 'Like what you see? Visit the ' +\n",
              "            '<a target=\"_blank\" href=https://colab.research.google.com/notebooks/data_table.ipynb>data table notebook</a>'\n",
              "            + ' to learn more about interactive tables.';\n",
              "          element.innerHTML = '';\n",
              "          dataTable['output_type'] = 'display_data';\n",
              "          await google.colab.output.renderOutput(dataTable, element);\n",
              "          const docLink = document.createElement('div');\n",
              "          docLink.innerHTML = docLinkHtml;\n",
              "          element.appendChild(docLink);\n",
              "        }\n",
              "      </script>\n",
              "    </div>\n",
              "  </div>\n",
              "  "
            ]
          },
          "metadata": {},
          "execution_count": 21
        }
      ]
    },
    {
      "cell_type": "code",
      "source": [
        "jawa_barat_domestik_df = jawa_barat_tourism_time_series_df[jawa_barat_tourism_time_series_df[kategori_wisatawan_field].str.contains(\"WISATAWAN MANCANEGARA\")]\n",
        "jawa_barat_mancanegara_df = jawa_barat_tourism_time_series_df[jawa_barat_tourism_time_series_df[kategori_wisatawan_field].str.contains(\"WISATAWAN DOMESTIK\")]\n",
        "\n",
        "print(jawa_barat_domestik_df)\n",
        "print(jawa_barat_mancanegara_df)"
      ],
      "metadata": {
        "colab": {
          "base_uri": "https://localhost:8080/"
        },
        "id": "4PsxmYhiW5mD",
        "outputId": "fd77baa0-6d13-489a-a94a-5a90cdc82c25"
      },
      "execution_count": 23,
      "outputs": [
        {
          "output_type": "stream",
          "name": "stdout",
          "text": [
            "   nama_provinsi     kategori_wisatawan  jumlah_wisatawan  tahun\n",
            "1     JAWA BARAT  WISATAWAN MANCANEGARA           1905378   2012\n",
            "3     JAWA BARAT  WISATAWAN MANCANEGARA           1794401   2013\n",
            "5     JAWA BARAT  WISATAWAN MANCANEGARA           1962639   2014\n",
            "7     JAWA BARAT  WISATAWAN MANCANEGARA           2027629   2015\n",
            "9     JAWA BARAT  WISATAWAN MANCANEGARA           4428094   2016\n",
            "11    JAWA BARAT  WISATAWAN MANCANEGARA           4984035   2017\n",
            "13    JAWA BARAT  WISATAWAN MANCANEGARA           2597455   2018\n",
            "15    JAWA BARAT  WISATAWAN MANCANEGARA           3645433   2019\n",
            "17    JAWA BARAT  WISATAWAN MANCANEGARA           1905213   2020\n",
            "19    JAWA BARAT  WISATAWAN MANCANEGARA            220531   2021\n",
            "   nama_provinsi  kategori_wisatawan  jumlah_wisatawan  tahun\n",
            "0     JAWA BARAT  WISATAWAN DOMESTIK          42758063   2012\n",
            "2     JAWA BARAT  WISATAWAN DOMESTIK          45536179   2013\n",
            "4     JAWA BARAT  WISATAWAN DOMESTIK          47992088   2014\n",
            "6     JAWA BARAT  WISATAWAN DOMESTIK          56334706   2015\n",
            "8     JAWA BARAT  WISATAWAN DOMESTIK          58728666   2016\n",
            "10    JAWA BARAT  WISATAWAN DOMESTIK          59644070   2017\n",
            "12    JAWA BARAT  WISATAWAN DOMESTIK          63298608   2018\n",
            "14    JAWA BARAT  WISATAWAN DOMESTIK          64610832   2019\n",
            "16    JAWA BARAT  WISATAWAN DOMESTIK          36524515   2020\n",
            "18    JAWA BARAT  WISATAWAN DOMESTIK          47132138   2021\n"
          ]
        }
      ]
    },
    {
      "cell_type": "code",
      "source": [],
      "metadata": {
        "id": "e-jTFPVrfr-D"
      },
      "execution_count": null,
      "outputs": []
    }
  ]
}