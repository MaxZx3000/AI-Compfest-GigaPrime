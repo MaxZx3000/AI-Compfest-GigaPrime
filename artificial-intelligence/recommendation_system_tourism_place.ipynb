{
  "nbformat": 4,
  "nbformat_minor": 0,
  "metadata": {
    "colab": {
      "name": "recommendation_system_tourism_place.ipynb",
      "provenance": [],
      "authorship_tag": "ABX9TyPaizpYri7SvOGUl/YUsS1m"
    },
    "kernelspec": {
      "name": "python3",
      "display_name": "Python 3"
    },
    "language_info": {
      "name": "python"
    }
  },
  "cells": [
    {
      "cell_type": "markdown",
      "source": [
        "# Recommendation System Item Based Collaborative Filtering"
      ],
      "metadata": {
        "id": "3NBkNZhED4jQ"
      }
    },
    {
      "cell_type": "code",
      "execution_count": null,
      "metadata": {
        "id": "tusp1xynD1sF"
      },
      "outputs": [],
      "source": [
        ""
      ]
    }
  ]
}