{
  "nbformat": 4,
  "nbformat_minor": 0,
  "metadata": {
    "colab": {
      "provenance": [],
      "collapsed_sections": [],
      "authorship_tag": "ABX9TyNCzTGb3F9zuJURVwB/K1t1"
    },
    "kernelspec": {
      "name": "python3",
      "display_name": "Python 3"
    },
    "language_info": {
      "name": "python"
    }
  },
  "cells": [
    {
      "cell_type": "markdown",
      "source": [
        "# Time Series Tourism Place\n",
        "\n",
        "Dibuat oleh: Anthony Kevin Oktavius"
      ],
      "metadata": {
        "id": "7zDhf86J_lsl"
      }
    },
    {
      "cell_type": "markdown",
      "source": [
        "Library Import"
      ],
      "metadata": {
        "id": "gryA4ZcRW-OS"
      }
    },
    {
      "cell_type": "code",
      "execution_count": 17,
      "metadata": {
        "id": "VRyzEKFY9hiP"
      },
      "outputs": [],
      "source": [
        "import numpy as np\n",
        "import pandas as pd\n",
        "import os"
      ]
    },
    {
      "cell_type": "code",
      "source": [
        "import plotly as py\n",
        "import cufflinks as cf\n",
        "from plotly.offline import iplot\n",
        "from plotly.subplots import make_subplots\n",
        "# Make sure plotly and cufflinks work in offline mode.\n",
        "py.offline.init_notebook_mode(connected = True)\n",
        "cf.go_offline()"
      ],
      "metadata": {
        "colab": {
          "base_uri": "https://localhost:8080/",
          "height": 17
        },
        "id": "oiKiEmNIC32s",
        "outputId": "d76f96c1-d8ea-4938-bf8c-03f02d444443"
      },
      "execution_count": 18,
      "outputs": [
        {
          "output_type": "display_data",
          "data": {
            "text/html": [
              "        <script type=\"text/javascript\">\n",
              "        window.PlotlyConfig = {MathJaxConfig: 'local'};\n",
              "        if (window.MathJax) {MathJax.Hub.Config({SVG: {font: \"STIX-Web\"}});}\n",
              "        if (typeof require !== 'undefined') {\n",
              "        require.undef(\"plotly\");\n",
              "        requirejs.config({\n",
              "            paths: {\n",
              "                'plotly': ['https://cdn.plot.ly/plotly-2.8.3.min']\n",
              "            }\n",
              "        });\n",
              "        require(['plotly'], function(Plotly) {\n",
              "            window._Plotly = Plotly;\n",
              "        });\n",
              "        }\n",
              "        </script>\n",
              "        "
            ]
          },
          "metadata": {}
        },
        {
          "output_type": "display_data",
          "data": {
            "text/html": [
              "        <script type=\"text/javascript\">\n",
              "        window.PlotlyConfig = {MathJaxConfig: 'local'};\n",
              "        if (window.MathJax) {MathJax.Hub.Config({SVG: {font: \"STIX-Web\"}});}\n",
              "        if (typeof require !== 'undefined') {\n",
              "        require.undef(\"plotly\");\n",
              "        requirejs.config({\n",
              "            paths: {\n",
              "                'plotly': ['https://cdn.plot.ly/plotly-2.8.3.min']\n",
              "            }\n",
              "        });\n",
              "        require(['plotly'], function(Plotly) {\n",
              "            window._Plotly = Plotly;\n",
              "        });\n",
              "        }\n",
              "        </script>\n",
              "        "
            ]
          },
          "metadata": {}
        }
      ]
    },
    {
      "cell_type": "markdown",
      "source": [
        "Get All List of Names"
      ],
      "metadata": {
        "id": "T3xelIVQzvYz"
      }
    },
    {
      "cell_type": "code",
      "source": [
        "tempat_wisata_field = \"tempat_wisata\"\n",
        "destinasi_wisata_field = \"destinasi_wisata\"\n",
        "tahun_field = \"tahun\"\n",
        "bulan_field = \"bulan\"\n",
        "jumlah_field = \"jumlah\""
      ],
      "metadata": {
        "id": "T5igYzPVzxEv"
      },
      "execution_count": 19,
      "outputs": []
    },
    {
      "cell_type": "markdown",
      "source": [
        "## Data Preprocessing"
      ],
      "metadata": {
        "id": "S7SgPRKLEAe3"
      }
    },
    {
      "cell_type": "markdown",
      "source": [
        "Get All Datasets Name"
      ],
      "metadata": {
        "id": "pG5gw1X2c0-u"
      }
    },
    {
      "cell_type": "code",
      "source": [
        "base_dir = \"Jakarta/\""
      ],
      "metadata": {
        "id": "6jJS8Dlks0g_"
      },
      "execution_count": 20,
      "outputs": []
    },
    {
      "cell_type": "code",
      "source": [
        "list_of_jakarta_time_series_files = os.listdir(base_dir)\n",
        "list_of_jakarta_time_series_files = [f\"{base_dir}{file_name}\" for file_name in list_of_jakarta_time_series_files]\n",
        "print(list_of_jakarta_time_series_files)"
      ],
      "metadata": {
        "colab": {
          "base_uri": "https://localhost:8080/"
        },
        "id": "ZN-hjO2fkNp6",
        "outputId": "bf6563a8-2697-46ad-a1bb-87c439bc9e0b"
      },
      "execution_count": 21,
      "outputs": [
        {
          "output_type": "stream",
          "name": "stdout",
          "text": [
            "['Jakarta/data-kunjungan-wisatawan-nusantara-ke-dki-jakarta-bulan-desember-tahun-2018.csv', 'Jakarta/data-jumlah-kunjungan-wisatawan-nusantara-bulan-oktober-tahun-2020.csv', 'Jakarta/data-jumlah-kunjungan-wisatawan-nusantara-bulan-januari-tahun-2020.csv', 'Jakarta/data-kunjungan-wisatawan-nusantara-ke-dki-jakarta-bulan-mei-tahun-2018.csv', 'Jakarta/data-jumlah-kunjungan-wisatawan-nusantara-bulan-september-tahun-2019.csv', 'Jakarta/data-jumlah-kunjungan-wisatawan-nusantara-bulan-oktober-tahun-2019.csv', 'Jakarta/data-kunjungan-wisatawan-nusantara-ke-dki-jakarta-bulan-februari-tahun-2018.csv', 'Jakarta/data-kunjungan-wisatawan-nusantara-ke-dki-jakarta-bulan-maret-tahun-2018.csv', 'Jakarta/data-jumlah-kunjungan-wisatawan-nusantara-bulan-maret-tahun-2019.csv', 'Jakarta/data-kunjungan-wisatawan-nusantara-ke-dki-jakarta-bulan-agustus-2018.csv', 'Jakarta/data-jumlah-kunjungan-wisatawan-nusantara-bulan-juni-tahun-2019.csv', 'Jakarta/data-jumlah-kunjungan-wisatawan-nusantara-bulan-agustus-tahun-2019.csv', 'Jakarta/data-jumlah-kunjungan-wisatawan-nusantara-bulan-februari-tahun-2019.csv', 'Jakarta/data-jumlah-kunjungan-wisatawan-nusantara-bulan-november-tahun-2020.csv', 'Jakarta/data-kunjungan-wisatawan-nusantara-ke-dki-jakarta-bulan-juli-tahun-2018.csv', 'Jakarta/data-jumlah-kunjungan-wisatawan-nusantara-bulan-mei-tahun-2019.csv', 'Jakarta/data-jumlah-kunjungan-wisatawan-nusantara-bulan-september-tahun-2020.csv', 'Jakarta/data-jumlah-kunjungan-wisatawan-nusantara-bulan-juli-tahun-2019.csv', 'Jakarta/data-jumlah-kunjungan-wisatawan-nusantara-juli-tahun-2020.csv', 'Jakarta/data-kunjungan-wisatawan-nusantara-ke-dki-jakarta-bulan-september-2018.csv', 'Jakarta/data-kunjungan-wisatawan-nusantara-ke-dki-jakarta-bulan-januari-2018.csv', 'Jakarta/data-kunjungan-wisatawan-nusantara-ke-dki-jakarta-bulan-april-tahun-2018.csv', 'Jakarta/data-kunjungan-wisatawan-nusantara-ke-dki-jakarta-bulan-juni-2018.csv', 'Jakarta/data-jumlah-kunjungan-wisatawan-nusantara-bulan-april-tahun-2019.csv', 'Jakarta/data-jumlah-kunjungan-wisatawan-nusantara-bulan-desember-tahun-2020.csv', 'Jakarta/data-kunjungan-wisatawan-nusantara-ke-dki-jakarta-bulan-oktober-tahun-2018.csv', 'Jakarta/data-jumlah-kunjungan-wisatawan-nusantara-bulan-agustus-tahun-2020.csv', 'Jakarta/data-jumlah-kunjungan-wisatawan-nusantara-ke-dki-jakarta-bulan-november-tahun-2018.csv']\n"
          ]
        }
      ]
    },
    {
      "cell_type": "code",
      "source": [
        "jakarta_time_series_columns = [tahun_field, bulan_field, tempat_wisata_field, jumlah_field]\n",
        "\n",
        "concat_jakarta_tourism_time_series_df = pd.DataFrame(\n",
        "  columns = jakarta_time_series_columns,\n",
        ")\n",
        "\n",
        "for file_name in list_of_jakarta_time_series_files:\n",
        "  one_jakarta_time_series_df = pd.read_csv(file_name, delimiter = ',')\n",
        "  one_jakarta_time_series_df.columns = jakarta_time_series_columns\n",
        "  \n",
        "  concat_jakarta_tourism_time_series_df = pd.concat(\n",
        "    [concat_jakarta_tourism_time_series_df, one_jakarta_time_series_df],\n",
        "  )\n",
        "\n",
        "concat_jakarta_tourism_time_series_df.head(20)"
      ],
      "metadata": {
        "colab": {
          "base_uri": "https://localhost:8080/",
          "height": 676
        },
        "id": "kaV2FfrPc3vJ",
        "outputId": "d528b794-58dd-44de-9383-c96c98669876"
      },
      "execution_count": 22,
      "outputs": [
        {
          "output_type": "execute_result",
          "data": {
            "text/plain": [
              "   tahun bulan                 tempat_wisata   jumlah\n",
              "0   2018    12       Taman Impian Jaya Ancol  1801476\n",
              "1   2018    12    Taman Mini Indonesia Indah   567401\n",
              "2   2018    12      Taman Margasatwa Ragunan   402761\n",
              "3   2018    12              Monumen Nasional   257071\n",
              "4   2018    12               Museum Nasional    26445\n",
              "5   2018    12         Museum Satria Mandala      461\n",
              "6   2018    12        Museum Sejarah Jakarta   140768\n",
              "7   2018    12                Museum Tekstil     4301\n",
              "8   2018    12                 Museum Bahari     3475\n",
              "9   2018    12  Museum Seni Rupa dan Keramik    27526\n",
              "10  2018    12                 Museum Wayang    50245\n",
              "11  2018    12   Museum Joang 45 dan Thamrin     4110\n",
              "12  2018    12        Taman Arkeologi Onrust     3876\n",
              "13  2018    12        Pelabuhan Sunda Kelapa     4254\n",
              "14  2018    12              Kepulauan Seribu    43280\n",
              "15  2018    12              PBB Setu babakan    35830\n",
              "16  2018    12               Museum Prasasti     3195\n",
              "17  2018    12                   Planetarium    23190\n",
              "18  2018    12               Rumah si Pitung     3435\n",
              "0   2020    10       Taman Impian Jaya Ancol  1978996"
            ],
            "text/html": [
              "\n",
              "  <div id=\"df-e327f91c-a36c-4e11-8003-f9eab0b51d9a\">\n",
              "    <div class=\"colab-df-container\">\n",
              "      <div>\n",
              "<style scoped>\n",
              "    .dataframe tbody tr th:only-of-type {\n",
              "        vertical-align: middle;\n",
              "    }\n",
              "\n",
              "    .dataframe tbody tr th {\n",
              "        vertical-align: top;\n",
              "    }\n",
              "\n",
              "    .dataframe thead th {\n",
              "        text-align: right;\n",
              "    }\n",
              "</style>\n",
              "<table border=\"1\" class=\"dataframe\">\n",
              "  <thead>\n",
              "    <tr style=\"text-align: right;\">\n",
              "      <th></th>\n",
              "      <th>tahun</th>\n",
              "      <th>bulan</th>\n",
              "      <th>tempat_wisata</th>\n",
              "      <th>jumlah</th>\n",
              "    </tr>\n",
              "  </thead>\n",
              "  <tbody>\n",
              "    <tr>\n",
              "      <th>0</th>\n",
              "      <td>2018</td>\n",
              "      <td>12</td>\n",
              "      <td>Taman Impian Jaya Ancol</td>\n",
              "      <td>1801476</td>\n",
              "    </tr>\n",
              "    <tr>\n",
              "      <th>1</th>\n",
              "      <td>2018</td>\n",
              "      <td>12</td>\n",
              "      <td>Taman Mini Indonesia Indah</td>\n",
              "      <td>567401</td>\n",
              "    </tr>\n",
              "    <tr>\n",
              "      <th>2</th>\n",
              "      <td>2018</td>\n",
              "      <td>12</td>\n",
              "      <td>Taman Margasatwa Ragunan</td>\n",
              "      <td>402761</td>\n",
              "    </tr>\n",
              "    <tr>\n",
              "      <th>3</th>\n",
              "      <td>2018</td>\n",
              "      <td>12</td>\n",
              "      <td>Monumen Nasional</td>\n",
              "      <td>257071</td>\n",
              "    </tr>\n",
              "    <tr>\n",
              "      <th>4</th>\n",
              "      <td>2018</td>\n",
              "      <td>12</td>\n",
              "      <td>Museum Nasional</td>\n",
              "      <td>26445</td>\n",
              "    </tr>\n",
              "    <tr>\n",
              "      <th>5</th>\n",
              "      <td>2018</td>\n",
              "      <td>12</td>\n",
              "      <td>Museum Satria Mandala</td>\n",
              "      <td>461</td>\n",
              "    </tr>\n",
              "    <tr>\n",
              "      <th>6</th>\n",
              "      <td>2018</td>\n",
              "      <td>12</td>\n",
              "      <td>Museum Sejarah Jakarta</td>\n",
              "      <td>140768</td>\n",
              "    </tr>\n",
              "    <tr>\n",
              "      <th>7</th>\n",
              "      <td>2018</td>\n",
              "      <td>12</td>\n",
              "      <td>Museum Tekstil</td>\n",
              "      <td>4301</td>\n",
              "    </tr>\n",
              "    <tr>\n",
              "      <th>8</th>\n",
              "      <td>2018</td>\n",
              "      <td>12</td>\n",
              "      <td>Museum Bahari</td>\n",
              "      <td>3475</td>\n",
              "    </tr>\n",
              "    <tr>\n",
              "      <th>9</th>\n",
              "      <td>2018</td>\n",
              "      <td>12</td>\n",
              "      <td>Museum Seni Rupa dan Keramik</td>\n",
              "      <td>27526</td>\n",
              "    </tr>\n",
              "    <tr>\n",
              "      <th>10</th>\n",
              "      <td>2018</td>\n",
              "      <td>12</td>\n",
              "      <td>Museum Wayang</td>\n",
              "      <td>50245</td>\n",
              "    </tr>\n",
              "    <tr>\n",
              "      <th>11</th>\n",
              "      <td>2018</td>\n",
              "      <td>12</td>\n",
              "      <td>Museum Joang 45 dan Thamrin</td>\n",
              "      <td>4110</td>\n",
              "    </tr>\n",
              "    <tr>\n",
              "      <th>12</th>\n",
              "      <td>2018</td>\n",
              "      <td>12</td>\n",
              "      <td>Taman Arkeologi Onrust</td>\n",
              "      <td>3876</td>\n",
              "    </tr>\n",
              "    <tr>\n",
              "      <th>13</th>\n",
              "      <td>2018</td>\n",
              "      <td>12</td>\n",
              "      <td>Pelabuhan Sunda Kelapa</td>\n",
              "      <td>4254</td>\n",
              "    </tr>\n",
              "    <tr>\n",
              "      <th>14</th>\n",
              "      <td>2018</td>\n",
              "      <td>12</td>\n",
              "      <td>Kepulauan Seribu</td>\n",
              "      <td>43280</td>\n",
              "    </tr>\n",
              "    <tr>\n",
              "      <th>15</th>\n",
              "      <td>2018</td>\n",
              "      <td>12</td>\n",
              "      <td>PBB Setu babakan</td>\n",
              "      <td>35830</td>\n",
              "    </tr>\n",
              "    <tr>\n",
              "      <th>16</th>\n",
              "      <td>2018</td>\n",
              "      <td>12</td>\n",
              "      <td>Museum Prasasti</td>\n",
              "      <td>3195</td>\n",
              "    </tr>\n",
              "    <tr>\n",
              "      <th>17</th>\n",
              "      <td>2018</td>\n",
              "      <td>12</td>\n",
              "      <td>Planetarium</td>\n",
              "      <td>23190</td>\n",
              "    </tr>\n",
              "    <tr>\n",
              "      <th>18</th>\n",
              "      <td>2018</td>\n",
              "      <td>12</td>\n",
              "      <td>Rumah si Pitung</td>\n",
              "      <td>3435</td>\n",
              "    </tr>\n",
              "    <tr>\n",
              "      <th>0</th>\n",
              "      <td>2020</td>\n",
              "      <td>10</td>\n",
              "      <td>Taman Impian Jaya Ancol</td>\n",
              "      <td>1978996</td>\n",
              "    </tr>\n",
              "  </tbody>\n",
              "</table>\n",
              "</div>\n",
              "      <button class=\"colab-df-convert\" onclick=\"convertToInteractive('df-e327f91c-a36c-4e11-8003-f9eab0b51d9a')\"\n",
              "              title=\"Convert this dataframe to an interactive table.\"\n",
              "              style=\"display:none;\">\n",
              "        \n",
              "  <svg xmlns=\"http://www.w3.org/2000/svg\" height=\"24px\"viewBox=\"0 0 24 24\"\n",
              "       width=\"24px\">\n",
              "    <path d=\"M0 0h24v24H0V0z\" fill=\"none\"/>\n",
              "    <path d=\"M18.56 5.44l.94 2.06.94-2.06 2.06-.94-2.06-.94-.94-2.06-.94 2.06-2.06.94zm-11 1L8.5 8.5l.94-2.06 2.06-.94-2.06-.94L8.5 2.5l-.94 2.06-2.06.94zm10 10l.94 2.06.94-2.06 2.06-.94-2.06-.94-.94-2.06-.94 2.06-2.06.94z\"/><path d=\"M17.41 7.96l-1.37-1.37c-.4-.4-.92-.59-1.43-.59-.52 0-1.04.2-1.43.59L10.3 9.45l-7.72 7.72c-.78.78-.78 2.05 0 2.83L4 21.41c.39.39.9.59 1.41.59.51 0 1.02-.2 1.41-.59l7.78-7.78 2.81-2.81c.8-.78.8-2.07 0-2.86zM5.41 20L4 18.59l7.72-7.72 1.47 1.35L5.41 20z\"/>\n",
              "  </svg>\n",
              "      </button>\n",
              "      \n",
              "  <style>\n",
              "    .colab-df-container {\n",
              "      display:flex;\n",
              "      flex-wrap:wrap;\n",
              "      gap: 12px;\n",
              "    }\n",
              "\n",
              "    .colab-df-convert {\n",
              "      background-color: #E8F0FE;\n",
              "      border: none;\n",
              "      border-radius: 50%;\n",
              "      cursor: pointer;\n",
              "      display: none;\n",
              "      fill: #1967D2;\n",
              "      height: 32px;\n",
              "      padding: 0 0 0 0;\n",
              "      width: 32px;\n",
              "    }\n",
              "\n",
              "    .colab-df-convert:hover {\n",
              "      background-color: #E2EBFA;\n",
              "      box-shadow: 0px 1px 2px rgba(60, 64, 67, 0.3), 0px 1px 3px 1px rgba(60, 64, 67, 0.15);\n",
              "      fill: #174EA6;\n",
              "    }\n",
              "\n",
              "    [theme=dark] .colab-df-convert {\n",
              "      background-color: #3B4455;\n",
              "      fill: #D2E3FC;\n",
              "    }\n",
              "\n",
              "    [theme=dark] .colab-df-convert:hover {\n",
              "      background-color: #434B5C;\n",
              "      box-shadow: 0px 1px 3px 1px rgba(0, 0, 0, 0.15);\n",
              "      filter: drop-shadow(0px 1px 2px rgba(0, 0, 0, 0.3));\n",
              "      fill: #FFFFFF;\n",
              "    }\n",
              "  </style>\n",
              "\n",
              "      <script>\n",
              "        const buttonEl =\n",
              "          document.querySelector('#df-e327f91c-a36c-4e11-8003-f9eab0b51d9a button.colab-df-convert');\n",
              "        buttonEl.style.display =\n",
              "          google.colab.kernel.accessAllowed ? 'block' : 'none';\n",
              "\n",
              "        async function convertToInteractive(key) {\n",
              "          const element = document.querySelector('#df-e327f91c-a36c-4e11-8003-f9eab0b51d9a');\n",
              "          const dataTable =\n",
              "            await google.colab.kernel.invokeFunction('convertToInteractive',\n",
              "                                                     [key], {});\n",
              "          if (!dataTable) return;\n",
              "\n",
              "          const docLinkHtml = 'Like what you see? Visit the ' +\n",
              "            '<a target=\"_blank\" href=https://colab.research.google.com/notebooks/data_table.ipynb>data table notebook</a>'\n",
              "            + ' to learn more about interactive tables.';\n",
              "          element.innerHTML = '';\n",
              "          dataTable['output_type'] = 'display_data';\n",
              "          await google.colab.output.renderOutput(dataTable, element);\n",
              "          const docLink = document.createElement('div');\n",
              "          docLink.innerHTML = docLinkHtml;\n",
              "          element.appendChild(docLink);\n",
              "        }\n",
              "      </script>\n",
              "    </div>\n",
              "  </div>\n",
              "  "
            ]
          },
          "metadata": {},
          "execution_count": 22
        }
      ]
    },
    {
      "cell_type": "code",
      "source": [
        "concat_jakarta_tourism_time_series_df.sort_values(\n",
        "    [tahun_field, bulan_field],\n",
        "    ascending = [True, True],\n",
        ")\n",
        "concat_jakarta_tourism_time_series_df.head(10)"
      ],
      "metadata": {
        "colab": {
          "base_uri": "https://localhost:8080/",
          "height": 363
        },
        "id": "3HMpXH8ECNPM",
        "outputId": "6b64bd2f-eb12-4331-c124-1768b72841d1"
      },
      "execution_count": 23,
      "outputs": [
        {
          "output_type": "execute_result",
          "data": {
            "text/plain": [
              "  tahun bulan                 tempat_wisata   jumlah\n",
              "0  2018    12       Taman Impian Jaya Ancol  1801476\n",
              "1  2018    12    Taman Mini Indonesia Indah   567401\n",
              "2  2018    12      Taman Margasatwa Ragunan   402761\n",
              "3  2018    12              Monumen Nasional   257071\n",
              "4  2018    12               Museum Nasional    26445\n",
              "5  2018    12         Museum Satria Mandala      461\n",
              "6  2018    12        Museum Sejarah Jakarta   140768\n",
              "7  2018    12                Museum Tekstil     4301\n",
              "8  2018    12                 Museum Bahari     3475\n",
              "9  2018    12  Museum Seni Rupa dan Keramik    27526"
            ],
            "text/html": [
              "\n",
              "  <div id=\"df-a6ffbbd7-92e4-4b9d-a9a6-dfa3308616e7\">\n",
              "    <div class=\"colab-df-container\">\n",
              "      <div>\n",
              "<style scoped>\n",
              "    .dataframe tbody tr th:only-of-type {\n",
              "        vertical-align: middle;\n",
              "    }\n",
              "\n",
              "    .dataframe tbody tr th {\n",
              "        vertical-align: top;\n",
              "    }\n",
              "\n",
              "    .dataframe thead th {\n",
              "        text-align: right;\n",
              "    }\n",
              "</style>\n",
              "<table border=\"1\" class=\"dataframe\">\n",
              "  <thead>\n",
              "    <tr style=\"text-align: right;\">\n",
              "      <th></th>\n",
              "      <th>tahun</th>\n",
              "      <th>bulan</th>\n",
              "      <th>tempat_wisata</th>\n",
              "      <th>jumlah</th>\n",
              "    </tr>\n",
              "  </thead>\n",
              "  <tbody>\n",
              "    <tr>\n",
              "      <th>0</th>\n",
              "      <td>2018</td>\n",
              "      <td>12</td>\n",
              "      <td>Taman Impian Jaya Ancol</td>\n",
              "      <td>1801476</td>\n",
              "    </tr>\n",
              "    <tr>\n",
              "      <th>1</th>\n",
              "      <td>2018</td>\n",
              "      <td>12</td>\n",
              "      <td>Taman Mini Indonesia Indah</td>\n",
              "      <td>567401</td>\n",
              "    </tr>\n",
              "    <tr>\n",
              "      <th>2</th>\n",
              "      <td>2018</td>\n",
              "      <td>12</td>\n",
              "      <td>Taman Margasatwa Ragunan</td>\n",
              "      <td>402761</td>\n",
              "    </tr>\n",
              "    <tr>\n",
              "      <th>3</th>\n",
              "      <td>2018</td>\n",
              "      <td>12</td>\n",
              "      <td>Monumen Nasional</td>\n",
              "      <td>257071</td>\n",
              "    </tr>\n",
              "    <tr>\n",
              "      <th>4</th>\n",
              "      <td>2018</td>\n",
              "      <td>12</td>\n",
              "      <td>Museum Nasional</td>\n",
              "      <td>26445</td>\n",
              "    </tr>\n",
              "    <tr>\n",
              "      <th>5</th>\n",
              "      <td>2018</td>\n",
              "      <td>12</td>\n",
              "      <td>Museum Satria Mandala</td>\n",
              "      <td>461</td>\n",
              "    </tr>\n",
              "    <tr>\n",
              "      <th>6</th>\n",
              "      <td>2018</td>\n",
              "      <td>12</td>\n",
              "      <td>Museum Sejarah Jakarta</td>\n",
              "      <td>140768</td>\n",
              "    </tr>\n",
              "    <tr>\n",
              "      <th>7</th>\n",
              "      <td>2018</td>\n",
              "      <td>12</td>\n",
              "      <td>Museum Tekstil</td>\n",
              "      <td>4301</td>\n",
              "    </tr>\n",
              "    <tr>\n",
              "      <th>8</th>\n",
              "      <td>2018</td>\n",
              "      <td>12</td>\n",
              "      <td>Museum Bahari</td>\n",
              "      <td>3475</td>\n",
              "    </tr>\n",
              "    <tr>\n",
              "      <th>9</th>\n",
              "      <td>2018</td>\n",
              "      <td>12</td>\n",
              "      <td>Museum Seni Rupa dan Keramik</td>\n",
              "      <td>27526</td>\n",
              "    </tr>\n",
              "  </tbody>\n",
              "</table>\n",
              "</div>\n",
              "      <button class=\"colab-df-convert\" onclick=\"convertToInteractive('df-a6ffbbd7-92e4-4b9d-a9a6-dfa3308616e7')\"\n",
              "              title=\"Convert this dataframe to an interactive table.\"\n",
              "              style=\"display:none;\">\n",
              "        \n",
              "  <svg xmlns=\"http://www.w3.org/2000/svg\" height=\"24px\"viewBox=\"0 0 24 24\"\n",
              "       width=\"24px\">\n",
              "    <path d=\"M0 0h24v24H0V0z\" fill=\"none\"/>\n",
              "    <path d=\"M18.56 5.44l.94 2.06.94-2.06 2.06-.94-2.06-.94-.94-2.06-.94 2.06-2.06.94zm-11 1L8.5 8.5l.94-2.06 2.06-.94-2.06-.94L8.5 2.5l-.94 2.06-2.06.94zm10 10l.94 2.06.94-2.06 2.06-.94-2.06-.94-.94-2.06-.94 2.06-2.06.94z\"/><path d=\"M17.41 7.96l-1.37-1.37c-.4-.4-.92-.59-1.43-.59-.52 0-1.04.2-1.43.59L10.3 9.45l-7.72 7.72c-.78.78-.78 2.05 0 2.83L4 21.41c.39.39.9.59 1.41.59.51 0 1.02-.2 1.41-.59l7.78-7.78 2.81-2.81c.8-.78.8-2.07 0-2.86zM5.41 20L4 18.59l7.72-7.72 1.47 1.35L5.41 20z\"/>\n",
              "  </svg>\n",
              "      </button>\n",
              "      \n",
              "  <style>\n",
              "    .colab-df-container {\n",
              "      display:flex;\n",
              "      flex-wrap:wrap;\n",
              "      gap: 12px;\n",
              "    }\n",
              "\n",
              "    .colab-df-convert {\n",
              "      background-color: #E8F0FE;\n",
              "      border: none;\n",
              "      border-radius: 50%;\n",
              "      cursor: pointer;\n",
              "      display: none;\n",
              "      fill: #1967D2;\n",
              "      height: 32px;\n",
              "      padding: 0 0 0 0;\n",
              "      width: 32px;\n",
              "    }\n",
              "\n",
              "    .colab-df-convert:hover {\n",
              "      background-color: #E2EBFA;\n",
              "      box-shadow: 0px 1px 2px rgba(60, 64, 67, 0.3), 0px 1px 3px 1px rgba(60, 64, 67, 0.15);\n",
              "      fill: #174EA6;\n",
              "    }\n",
              "\n",
              "    [theme=dark] .colab-df-convert {\n",
              "      background-color: #3B4455;\n",
              "      fill: #D2E3FC;\n",
              "    }\n",
              "\n",
              "    [theme=dark] .colab-df-convert:hover {\n",
              "      background-color: #434B5C;\n",
              "      box-shadow: 0px 1px 3px 1px rgba(0, 0, 0, 0.15);\n",
              "      filter: drop-shadow(0px 1px 2px rgba(0, 0, 0, 0.3));\n",
              "      fill: #FFFFFF;\n",
              "    }\n",
              "  </style>\n",
              "\n",
              "      <script>\n",
              "        const buttonEl =\n",
              "          document.querySelector('#df-a6ffbbd7-92e4-4b9d-a9a6-dfa3308616e7 button.colab-df-convert');\n",
              "        buttonEl.style.display =\n",
              "          google.colab.kernel.accessAllowed ? 'block' : 'none';\n",
              "\n",
              "        async function convertToInteractive(key) {\n",
              "          const element = document.querySelector('#df-a6ffbbd7-92e4-4b9d-a9a6-dfa3308616e7');\n",
              "          const dataTable =\n",
              "            await google.colab.kernel.invokeFunction('convertToInteractive',\n",
              "                                                     [key], {});\n",
              "          if (!dataTable) return;\n",
              "\n",
              "          const docLinkHtml = 'Like what you see? Visit the ' +\n",
              "            '<a target=\"_blank\" href=https://colab.research.google.com/notebooks/data_table.ipynb>data table notebook</a>'\n",
              "            + ' to learn more about interactive tables.';\n",
              "          element.innerHTML = '';\n",
              "          dataTable['output_type'] = 'display_data';\n",
              "          await google.colab.output.renderOutput(dataTable, element);\n",
              "          const docLink = document.createElement('div');\n",
              "          docLink.innerHTML = docLinkHtml;\n",
              "          element.appendChild(docLink);\n",
              "        }\n",
              "      </script>\n",
              "    </div>\n",
              "  </div>\n",
              "  "
            ]
          },
          "metadata": {},
          "execution_count": 23
        }
      ]
    },
    {
      "cell_type": "markdown",
      "source": [
        "See Unique Tourism Places and fix mispelled tourism place names"
      ],
      "metadata": {
        "id": "-Ek1fUkTH4XE"
      }
    },
    {
      "cell_type": "code",
      "source": [
        "unique_tourism_places = concat_jakarta_tourism_time_series_df[tempat_wisata_field].unique()\n",
        "print(f\"Number of unique Tourism Places: {len(unique_tourism_places)}\")\n",
        "print(unique_tourism_places)"
      ],
      "metadata": {
        "colab": {
          "base_uri": "https://localhost:8080/"
        },
        "id": "gT5HdHdvH6-i",
        "outputId": "2d100096-b649-45dc-b2d2-514d45f954bd"
      },
      "execution_count": 25,
      "outputs": [
        {
          "output_type": "stream",
          "name": "stdout",
          "text": [
            "Number of unique Tourism Places: 24\n",
            "['Taman Impian Jaya Ancol' 'Taman Mini Indonesia Indah'\n",
            " 'Taman Margasatwa Ragunan' 'Monumen Nasional' 'Museum Nasional'\n",
            " 'Museum Satria Mandala' 'Museum Sejarah Jakarta' 'Museum Tekstil'\n",
            " 'Museum Bahari' 'Museum Seni Rupa dan Keramik' 'Museum Wayang'\n",
            " 'Museum Joang 45 dan Thamrin' 'Taman Arkeologi Onrust'\n",
            " 'Pelabuhan Sunda Kelapa' 'Kepulauan Seribu' 'PBB Setu babakan'\n",
            " 'Museum Prasasti' 'Planetarium' 'Rumah si Pitung' 'Museum Joang 45'\n",
            " 'Kawasan Kota Tua' 'Monumen Nasional (kawasan)' 'Kawasan Kotatua'\n",
            " 'Museum Joang']\n"
          ]
        }
      ]
    },
    {
      "cell_type": "code",
      "source": [
        "concat_jakarta_tourism_time_series_df.replace(\"Kawasan Kotatua\", \"Kawasan Kota Tua\", inplace = True)\n",
        "concat_jakarta_tourism_time_series_df.replace(\"Monumen Nasional (kawasan)\", \"Monumen Nasional\", inplace = True)\n",
        "concat_jakarta_tourism_time_series_df.replace(\"Museum Joang 45\", \"Museum Joang\", inplace = True)\n",
        "concat_jakarta_tourism_time_series_df.replace(\"Museum Joang 45 dan Thamrin\", \"Museum Joang\", inplace = True)"
      ],
      "metadata": {
        "id": "NnwxfNvUNqv2"
      },
      "execution_count": 38,
      "outputs": []
    },
    {
      "cell_type": "code",
      "source": [
        "unique_tourism_places = concat_jakarta_tourism_time_series_df[tempat_wisata_field].unique()\n",
        "print(f\"Number of unique Tourism Places: {len(unique_tourism_places)}\")\n",
        "print(unique_tourism_places)"
      ],
      "metadata": {
        "colab": {
          "base_uri": "https://localhost:8080/"
        },
        "id": "mmor9H_oNLIx",
        "outputId": "9802e2bd-8c4c-4329-bdf9-117e28367066"
      },
      "execution_count": 39,
      "outputs": [
        {
          "output_type": "stream",
          "name": "stdout",
          "text": [
            "Number of unique Tourism Places: 20\n",
            "['Taman Impian Jaya Ancol' 'Taman Mini Indonesia Indah'\n",
            " 'Taman Margasatwa Ragunan' 'Monumen Nasional' 'Museum Nasional'\n",
            " 'Museum Satria Mandala' 'Museum Sejarah Jakarta' 'Museum Tekstil'\n",
            " 'Museum Bahari' 'Museum Seni Rupa dan Keramik' 'Museum Wayang'\n",
            " 'Museum Joang' 'Taman Arkeologi Onrust' 'Pelabuhan Sunda Kelapa'\n",
            " 'Kepulauan Seribu' 'PBB Setu babakan' 'Museum Prasasti' 'Planetarium'\n",
            " 'Rumah si Pitung' 'Kawasan Kota Tua']\n"
          ]
        }
      ]
    },
    {
      "cell_type": "markdown",
      "source": [
        "Convert Preprocessed File to CSV."
      ],
      "metadata": {
        "id": "NGqky_nwLPwr"
      }
    },
    {
      "cell_type": "code",
      "source": [
        "concat_jakarta_tourism_time_series_df.to_csv(\"full_jakarta_tourist_people_time_series.csv\", index = False)"
      ],
      "metadata": {
        "id": "zGHnpspjBCAX"
      },
      "execution_count": 40,
      "outputs": []
    },
    {
      "cell_type": "markdown",
      "source": [
        "## Data Visualization"
      ],
      "metadata": {
        "id": "UX1eojZPEnZ3"
      }
    },
    {
      "cell_type": "markdown",
      "source": [
        "Data Loading"
      ],
      "metadata": {
        "id": "fjm2n4J_Gaqq"
      }
    },
    {
      "cell_type": "code",
      "source": [
        "full_jakarta_tourist_numbers_df = pd.read_csv(\"full_jakarta_tourist_people_time_series.csv\")\n",
        "full_jakarta_tourist_numbers_df.head()"
      ],
      "metadata": {
        "colab": {
          "base_uri": "https://localhost:8080/",
          "height": 206
        },
        "id": "yILQipt2GPMw",
        "outputId": "cc9ca9e5-48bb-455e-ba1a-ae15c12177a4"
      },
      "execution_count": 4,
      "outputs": [
        {
          "output_type": "execute_result",
          "data": {
            "text/plain": [
              "   tahun  bulan               tempat_wisata     jumlah\n",
              "0   2018     12     Taman Impian Jaya Ancol  1801476.0\n",
              "1   2018     12  Taman Mini Indonesia Indah   567401.0\n",
              "2   2018     12    Taman Margasatwa Ragunan   402761.0\n",
              "3   2018     12            Monumen Nasional   257071.0\n",
              "4   2018     12             Museum Nasional    26445.0"
            ],
            "text/html": [
              "\n",
              "  <div id=\"df-cdb3aded-3886-4404-b224-02b59a579016\">\n",
              "    <div class=\"colab-df-container\">\n",
              "      <div>\n",
              "<style scoped>\n",
              "    .dataframe tbody tr th:only-of-type {\n",
              "        vertical-align: middle;\n",
              "    }\n",
              "\n",
              "    .dataframe tbody tr th {\n",
              "        vertical-align: top;\n",
              "    }\n",
              "\n",
              "    .dataframe thead th {\n",
              "        text-align: right;\n",
              "    }\n",
              "</style>\n",
              "<table border=\"1\" class=\"dataframe\">\n",
              "  <thead>\n",
              "    <tr style=\"text-align: right;\">\n",
              "      <th></th>\n",
              "      <th>tahun</th>\n",
              "      <th>bulan</th>\n",
              "      <th>tempat_wisata</th>\n",
              "      <th>jumlah</th>\n",
              "    </tr>\n",
              "  </thead>\n",
              "  <tbody>\n",
              "    <tr>\n",
              "      <th>0</th>\n",
              "      <td>2018</td>\n",
              "      <td>12</td>\n",
              "      <td>Taman Impian Jaya Ancol</td>\n",
              "      <td>1801476.0</td>\n",
              "    </tr>\n",
              "    <tr>\n",
              "      <th>1</th>\n",
              "      <td>2018</td>\n",
              "      <td>12</td>\n",
              "      <td>Taman Mini Indonesia Indah</td>\n",
              "      <td>567401.0</td>\n",
              "    </tr>\n",
              "    <tr>\n",
              "      <th>2</th>\n",
              "      <td>2018</td>\n",
              "      <td>12</td>\n",
              "      <td>Taman Margasatwa Ragunan</td>\n",
              "      <td>402761.0</td>\n",
              "    </tr>\n",
              "    <tr>\n",
              "      <th>3</th>\n",
              "      <td>2018</td>\n",
              "      <td>12</td>\n",
              "      <td>Monumen Nasional</td>\n",
              "      <td>257071.0</td>\n",
              "    </tr>\n",
              "    <tr>\n",
              "      <th>4</th>\n",
              "      <td>2018</td>\n",
              "      <td>12</td>\n",
              "      <td>Museum Nasional</td>\n",
              "      <td>26445.0</td>\n",
              "    </tr>\n",
              "  </tbody>\n",
              "</table>\n",
              "</div>\n",
              "      <button class=\"colab-df-convert\" onclick=\"convertToInteractive('df-cdb3aded-3886-4404-b224-02b59a579016')\"\n",
              "              title=\"Convert this dataframe to an interactive table.\"\n",
              "              style=\"display:none;\">\n",
              "        \n",
              "  <svg xmlns=\"http://www.w3.org/2000/svg\" height=\"24px\"viewBox=\"0 0 24 24\"\n",
              "       width=\"24px\">\n",
              "    <path d=\"M0 0h24v24H0V0z\" fill=\"none\"/>\n",
              "    <path d=\"M18.56 5.44l.94 2.06.94-2.06 2.06-.94-2.06-.94-.94-2.06-.94 2.06-2.06.94zm-11 1L8.5 8.5l.94-2.06 2.06-.94-2.06-.94L8.5 2.5l-.94 2.06-2.06.94zm10 10l.94 2.06.94-2.06 2.06-.94-2.06-.94-.94-2.06-.94 2.06-2.06.94z\"/><path d=\"M17.41 7.96l-1.37-1.37c-.4-.4-.92-.59-1.43-.59-.52 0-1.04.2-1.43.59L10.3 9.45l-7.72 7.72c-.78.78-.78 2.05 0 2.83L4 21.41c.39.39.9.59 1.41.59.51 0 1.02-.2 1.41-.59l7.78-7.78 2.81-2.81c.8-.78.8-2.07 0-2.86zM5.41 20L4 18.59l7.72-7.72 1.47 1.35L5.41 20z\"/>\n",
              "  </svg>\n",
              "      </button>\n",
              "      \n",
              "  <style>\n",
              "    .colab-df-container {\n",
              "      display:flex;\n",
              "      flex-wrap:wrap;\n",
              "      gap: 12px;\n",
              "    }\n",
              "\n",
              "    .colab-df-convert {\n",
              "      background-color: #E8F0FE;\n",
              "      border: none;\n",
              "      border-radius: 50%;\n",
              "      cursor: pointer;\n",
              "      display: none;\n",
              "      fill: #1967D2;\n",
              "      height: 32px;\n",
              "      padding: 0 0 0 0;\n",
              "      width: 32px;\n",
              "    }\n",
              "\n",
              "    .colab-df-convert:hover {\n",
              "      background-color: #E2EBFA;\n",
              "      box-shadow: 0px 1px 2px rgba(60, 64, 67, 0.3), 0px 1px 3px 1px rgba(60, 64, 67, 0.15);\n",
              "      fill: #174EA6;\n",
              "    }\n",
              "\n",
              "    [theme=dark] .colab-df-convert {\n",
              "      background-color: #3B4455;\n",
              "      fill: #D2E3FC;\n",
              "    }\n",
              "\n",
              "    [theme=dark] .colab-df-convert:hover {\n",
              "      background-color: #434B5C;\n",
              "      box-shadow: 0px 1px 3px 1px rgba(0, 0, 0, 0.15);\n",
              "      filter: drop-shadow(0px 1px 2px rgba(0, 0, 0, 0.3));\n",
              "      fill: #FFFFFF;\n",
              "    }\n",
              "  </style>\n",
              "\n",
              "      <script>\n",
              "        const buttonEl =\n",
              "          document.querySelector('#df-cdb3aded-3886-4404-b224-02b59a579016 button.colab-df-convert');\n",
              "        buttonEl.style.display =\n",
              "          google.colab.kernel.accessAllowed ? 'block' : 'none';\n",
              "\n",
              "        async function convertToInteractive(key) {\n",
              "          const element = document.querySelector('#df-cdb3aded-3886-4404-b224-02b59a579016');\n",
              "          const dataTable =\n",
              "            await google.colab.kernel.invokeFunction('convertToInteractive',\n",
              "                                                     [key], {});\n",
              "          if (!dataTable) return;\n",
              "\n",
              "          const docLinkHtml = 'Like what you see? Visit the ' +\n",
              "            '<a target=\"_blank\" href=https://colab.research.google.com/notebooks/data_table.ipynb>data table notebook</a>'\n",
              "            + ' to learn more about interactive tables.';\n",
              "          element.innerHTML = '';\n",
              "          dataTable['output_type'] = 'display_data';\n",
              "          await google.colab.output.renderOutput(dataTable, element);\n",
              "          const docLink = document.createElement('div');\n",
              "          docLink.innerHTML = docLinkHtml;\n",
              "          element.appendChild(docLink);\n",
              "        }\n",
              "      </script>\n",
              "    </div>\n",
              "  </div>\n",
              "  "
            ]
          },
          "metadata": {},
          "execution_count": 4
        }
      ]
    },
    {
      "cell_type": "markdown",
      "source": [
        "Get Info Data"
      ],
      "metadata": {
        "id": "kC9SvuoSATrx"
      }
    },
    {
      "cell_type": "code",
      "source": [
        "full_jakarta_tourist_numbers_df.info()"
      ],
      "metadata": {
        "colab": {
          "base_uri": "https://localhost:8080/"
        },
        "id": "LkkjEGpyAUlw",
        "outputId": "16f58ece-f2fa-4660-e567-8d2bec07adcd"
      },
      "execution_count": 5,
      "outputs": [
        {
          "output_type": "stream",
          "name": "stdout",
          "text": [
            "<class 'pandas.core.frame.DataFrame'>\n",
            "RangeIndex: 544 entries, 0 to 543\n",
            "Data columns (total 4 columns):\n",
            " #   Column         Non-Null Count  Dtype  \n",
            "---  ------         --------------  -----  \n",
            " 0   tahun          544 non-null    int64  \n",
            " 1   bulan          544 non-null    int64  \n",
            " 2   tempat_wisata  544 non-null    object \n",
            " 3   jumlah         544 non-null    float64\n",
            "dtypes: float64(1), int64(2), object(1)\n",
            "memory usage: 17.1+ KB\n"
          ]
        }
      ]
    },
    {
      "cell_type": "code",
      "source": [],
      "metadata": {
        "id": "lilqQ-TMITJb"
      },
      "execution_count": null,
      "outputs": []
    },
    {
      "cell_type": "markdown",
      "source": [
        "Describe Data"
      ],
      "metadata": {
        "id": "8FAKxTZOACau"
      }
    },
    {
      "cell_type": "code",
      "source": [
        "full_jakarta_tourist_numbers_df.describe()"
      ],
      "metadata": {
        "id": "4xwFvUUbG6EQ",
        "colab": {
          "base_uri": "https://localhost:8080/",
          "height": 300
        },
        "outputId": "70754d0c-7597-4e4e-9df9-a0140e92891a"
      },
      "execution_count": 6,
      "outputs": [
        {
          "output_type": "execute_result",
          "data": {
            "text/plain": [
              "             tahun       bulan        jumlah\n",
              "count   544.000000  544.000000  5.440000e+02\n",
              "mean   2018.838235    6.816176  1.257044e+05\n",
              "std       0.807156    3.296747  3.146430e+05\n",
              "min    2018.000000    1.000000  0.000000e+00\n",
              "25%    2018.000000    4.000000  1.669750e+03\n",
              "50%    2019.000000    7.000000  8.307000e+03\n",
              "75%    2020.000000   10.000000  4.880175e+04\n",
              "max    2020.000000   12.000000  1.978996e+06"
            ],
            "text/html": [
              "\n",
              "  <div id=\"df-9de53662-fd5d-42a2-8e81-389fb6fc7028\">\n",
              "    <div class=\"colab-df-container\">\n",
              "      <div>\n",
              "<style scoped>\n",
              "    .dataframe tbody tr th:only-of-type {\n",
              "        vertical-align: middle;\n",
              "    }\n",
              "\n",
              "    .dataframe tbody tr th {\n",
              "        vertical-align: top;\n",
              "    }\n",
              "\n",
              "    .dataframe thead th {\n",
              "        text-align: right;\n",
              "    }\n",
              "</style>\n",
              "<table border=\"1\" class=\"dataframe\">\n",
              "  <thead>\n",
              "    <tr style=\"text-align: right;\">\n",
              "      <th></th>\n",
              "      <th>tahun</th>\n",
              "      <th>bulan</th>\n",
              "      <th>jumlah</th>\n",
              "    </tr>\n",
              "  </thead>\n",
              "  <tbody>\n",
              "    <tr>\n",
              "      <th>count</th>\n",
              "      <td>544.000000</td>\n",
              "      <td>544.000000</td>\n",
              "      <td>5.440000e+02</td>\n",
              "    </tr>\n",
              "    <tr>\n",
              "      <th>mean</th>\n",
              "      <td>2018.838235</td>\n",
              "      <td>6.816176</td>\n",
              "      <td>1.257044e+05</td>\n",
              "    </tr>\n",
              "    <tr>\n",
              "      <th>std</th>\n",
              "      <td>0.807156</td>\n",
              "      <td>3.296747</td>\n",
              "      <td>3.146430e+05</td>\n",
              "    </tr>\n",
              "    <tr>\n",
              "      <th>min</th>\n",
              "      <td>2018.000000</td>\n",
              "      <td>1.000000</td>\n",
              "      <td>0.000000e+00</td>\n",
              "    </tr>\n",
              "    <tr>\n",
              "      <th>25%</th>\n",
              "      <td>2018.000000</td>\n",
              "      <td>4.000000</td>\n",
              "      <td>1.669750e+03</td>\n",
              "    </tr>\n",
              "    <tr>\n",
              "      <th>50%</th>\n",
              "      <td>2019.000000</td>\n",
              "      <td>7.000000</td>\n",
              "      <td>8.307000e+03</td>\n",
              "    </tr>\n",
              "    <tr>\n",
              "      <th>75%</th>\n",
              "      <td>2020.000000</td>\n",
              "      <td>10.000000</td>\n",
              "      <td>4.880175e+04</td>\n",
              "    </tr>\n",
              "    <tr>\n",
              "      <th>max</th>\n",
              "      <td>2020.000000</td>\n",
              "      <td>12.000000</td>\n",
              "      <td>1.978996e+06</td>\n",
              "    </tr>\n",
              "  </tbody>\n",
              "</table>\n",
              "</div>\n",
              "      <button class=\"colab-df-convert\" onclick=\"convertToInteractive('df-9de53662-fd5d-42a2-8e81-389fb6fc7028')\"\n",
              "              title=\"Convert this dataframe to an interactive table.\"\n",
              "              style=\"display:none;\">\n",
              "        \n",
              "  <svg xmlns=\"http://www.w3.org/2000/svg\" height=\"24px\"viewBox=\"0 0 24 24\"\n",
              "       width=\"24px\">\n",
              "    <path d=\"M0 0h24v24H0V0z\" fill=\"none\"/>\n",
              "    <path d=\"M18.56 5.44l.94 2.06.94-2.06 2.06-.94-2.06-.94-.94-2.06-.94 2.06-2.06.94zm-11 1L8.5 8.5l.94-2.06 2.06-.94-2.06-.94L8.5 2.5l-.94 2.06-2.06.94zm10 10l.94 2.06.94-2.06 2.06-.94-2.06-.94-.94-2.06-.94 2.06-2.06.94z\"/><path d=\"M17.41 7.96l-1.37-1.37c-.4-.4-.92-.59-1.43-.59-.52 0-1.04.2-1.43.59L10.3 9.45l-7.72 7.72c-.78.78-.78 2.05 0 2.83L4 21.41c.39.39.9.59 1.41.59.51 0 1.02-.2 1.41-.59l7.78-7.78 2.81-2.81c.8-.78.8-2.07 0-2.86zM5.41 20L4 18.59l7.72-7.72 1.47 1.35L5.41 20z\"/>\n",
              "  </svg>\n",
              "      </button>\n",
              "      \n",
              "  <style>\n",
              "    .colab-df-container {\n",
              "      display:flex;\n",
              "      flex-wrap:wrap;\n",
              "      gap: 12px;\n",
              "    }\n",
              "\n",
              "    .colab-df-convert {\n",
              "      background-color: #E8F0FE;\n",
              "      border: none;\n",
              "      border-radius: 50%;\n",
              "      cursor: pointer;\n",
              "      display: none;\n",
              "      fill: #1967D2;\n",
              "      height: 32px;\n",
              "      padding: 0 0 0 0;\n",
              "      width: 32px;\n",
              "    }\n",
              "\n",
              "    .colab-df-convert:hover {\n",
              "      background-color: #E2EBFA;\n",
              "      box-shadow: 0px 1px 2px rgba(60, 64, 67, 0.3), 0px 1px 3px 1px rgba(60, 64, 67, 0.15);\n",
              "      fill: #174EA6;\n",
              "    }\n",
              "\n",
              "    [theme=dark] .colab-df-convert {\n",
              "      background-color: #3B4455;\n",
              "      fill: #D2E3FC;\n",
              "    }\n",
              "\n",
              "    [theme=dark] .colab-df-convert:hover {\n",
              "      background-color: #434B5C;\n",
              "      box-shadow: 0px 1px 3px 1px rgba(0, 0, 0, 0.15);\n",
              "      filter: drop-shadow(0px 1px 2px rgba(0, 0, 0, 0.3));\n",
              "      fill: #FFFFFF;\n",
              "    }\n",
              "  </style>\n",
              "\n",
              "      <script>\n",
              "        const buttonEl =\n",
              "          document.querySelector('#df-9de53662-fd5d-42a2-8e81-389fb6fc7028 button.colab-df-convert');\n",
              "        buttonEl.style.display =\n",
              "          google.colab.kernel.accessAllowed ? 'block' : 'none';\n",
              "\n",
              "        async function convertToInteractive(key) {\n",
              "          const element = document.querySelector('#df-9de53662-fd5d-42a2-8e81-389fb6fc7028');\n",
              "          const dataTable =\n",
              "            await google.colab.kernel.invokeFunction('convertToInteractive',\n",
              "                                                     [key], {});\n",
              "          if (!dataTable) return;\n",
              "\n",
              "          const docLinkHtml = 'Like what you see? Visit the ' +\n",
              "            '<a target=\"_blank\" href=https://colab.research.google.com/notebooks/data_table.ipynb>data table notebook</a>'\n",
              "            + ' to learn more about interactive tables.';\n",
              "          element.innerHTML = '';\n",
              "          dataTable['output_type'] = 'display_data';\n",
              "          await google.colab.output.renderOutput(dataTable, element);\n",
              "          const docLink = document.createElement('div');\n",
              "          docLink.innerHTML = docLinkHtml;\n",
              "          element.appendChild(docLink);\n",
              "        }\n",
              "      </script>\n",
              "    </div>\n",
              "  </div>\n",
              "  "
            ]
          },
          "metadata": {},
          "execution_count": 6
        }
      ]
    },
    {
      "cell_type": "code",
      "source": [
        "\n",
        "\n",
        "fig = make_subplots(rows = 6, cols = 5, shared_xaxes = False, horizontal_spacing = 0.1)\n",
        "\n",
        "full_jakarta_tourist_numbers_df.iplot(\n",
        "    kind = 'bar', \n",
        "    xTitle = \"tahun\", \n",
        "    yTitle = \"\", \n",
        "    title = \"Time Series Data for Each Country\"\n",
        ")\n"
      ],
      "metadata": {
        "id": "mdPv2VQ7A9CY"
      },
      "execution_count": null,
      "outputs": []
    }
  ]
}